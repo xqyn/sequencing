{
 "cells": [
  {
   "cell_type": "code",
   "execution_count": 2,
   "id": "191afc8d",
   "metadata": {},
   "outputs": [
    {
     "name": "stdout",
     "output_type": "stream",
     "text": [
      "/home/xqnguyen\n"
     ]
    }
   ],
   "source": [
    "# Check the current working directory\n",
    "!pwd  # For Unix-like systems (Linux/macOS)\n",
    "!cd   # For Windows"
   ]
  },
  {
   "cell_type": "code",
   "execution_count": 3,
   "id": "59a113b1",
   "metadata": {},
   "outputs": [
    {
     "name": "stdout",
     "output_type": "stream",
     "text": [
      "/bin/bash\n"
     ]
    }
   ],
   "source": [
    "!echo $SHELL  # For Unix-like systems"
   ]
  },
  {
   "cell_type": "code",
   "execution_count": 4,
   "id": "4ba0c1b7",
   "metadata": {},
   "outputs": [
    {
     "name": "stdout",
     "output_type": "stream",
     "text": [
      "archive  logs  ondemand  src  xq.sh\n"
     ]
    }
   ],
   "source": [
    "!ls  # For Unix-like systems"
   ]
  },
  {
   "cell_type": "code",
   "execution_count": 5,
   "id": "efd87e24",
   "metadata": {},
   "outputs": [
    {
     "name": "stdout",
     "output_type": "stream",
     "text": [
      "xqnguyen\n"
     ]
    }
   ],
   "source": [
    "!whoami  # For Unix-like systems"
   ]
  },
  {
   "cell_type": "code",
   "execution_count": 6,
   "id": "a76aa310",
   "metadata": {},
   "outputs": [
    {
     "name": "stdout",
     "output_type": "stream",
     "text": [
      "Python 3.11.11\n"
     ]
    }
   ],
   "source": [
    "!python --version"
   ]
  }
 ],
 "metadata": {
  "kernelspec": {
   "display_name": "belt",
   "language": "python",
   "name": "python3"
  },
  "language_info": {
   "codemirror_mode": {
    "name": "ipython",
    "version": 3
   },
   "file_extension": ".py",
   "mimetype": "text/x-python",
   "name": "python",
   "nbconvert_exporter": "python",
   "pygments_lexer": "ipython3",
   "version": "3.11.11"
  }
 },
 "nbformat": 4,
 "nbformat_minor": 5
}
